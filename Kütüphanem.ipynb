{
  "cells": [
    {
      "cell_type": "markdown",
      "metadata": {
        "id": "view-in-github",
        "colab_type": "text"
      },
      "source": [
        "<a href=\"https://colab.research.google.com/github/utkucan04/Ileri-Programlama/blob/main/K%C3%BCt%C3%BCphanem.ipynb\" target=\"_parent\"><img src=\"https://colab.research.google.com/assets/colab-badge.svg\" alt=\"Open In Colab\"/></a>"
      ]
    },
    {
      "cell_type": "code",
      "execution_count": null,
      "metadata": {
        "id": "iv6sIoIlTLjj",
        "collapsed": true
      },
      "outputs": [],
      "source": [
        "kitaplık={}\n",
        "print(\"Kütüphane\")\n",
        "while True :\n",
        "  k= input(\"yapmak istediğiniz işlemi yazınız. (kitap ekle/kitap ara/bitir):\").lower()\n",
        "  if k == \"kitap ekle\" :\n",
        "    try:\n",
        "      eklenecek_kitap=input(\"lütfen eklemek istediğiniz kitabı yazarıyla birlikte yazın (araya virgül koyun):\")\n",
        "      kitap, yazar= eklenecek_kitap.split(\",\")\n",
        "      kitaplık[kitap.strip()] = yazar.strip()\n",
        "      print(f\"{kitap.strip()} adlı kitap {yazar.strip()} yazarıyla birlikte kütüphaneye eklendi.\")\n",
        "    except ValueError:\n",
        "      print(\"hatalı giriş yaptınız lütfen tekrar giriniz:\")\n",
        "  elif k==\"kitap ara\":\n",
        "    if not kitaplık:\n",
        "      print(\"kitaplık boş\")\n",
        "    else:\n",
        "      kitap_arama=input(\"aramak istediğiniz kitabın adini ve yazarını yazınız: \").lower()\n",
        "      bulunanlar = {k: y for k, y in kitaplık.items() if kitap_arama in k.lower() or kitap_arama in y.lower()}\n",
        "      if bulunanlar:\n",
        "        print(\"bulunanlar:\")\n",
        "        for k, y in bulunanlar.items():\n",
        "            print(f\"kitap: {k}, yazar: {y}\")\n",
        "      else:\n",
        "        print(\"aradığınız kitap bulunamadı\")\n",
        "  elif k==\"çıkış\":\n",
        "    print(\"kütüphaneden çıkılıyor...\")\n",
        "    break\n",
        "  else:\n",
        "    print(\"geçersiz işlem yaptınız lütfen sadece kitap ekle,kitap ara ve çıkış yazınız. \")\n",
        "\n",
        "\n",
        "print(kitaplık)\n",
        "\n",
        "\n",
        "\n",
        "\n",
        "\n",
        "\n"
      ]
    },
    {
      "cell_type": "code",
      "execution_count": null,
      "metadata": {
        "id": "IrWqG1Mj7kj6"
      },
      "outputs": [],
      "source": []
    }
  ],
  "metadata": {
    "colab": {
      "provenance": [],
      "authorship_tag": "ABX9TyPArbSIQyWm/3ikcJl186Ek",
      "include_colab_link": true
    },
    "kernelspec": {
      "display_name": "Python 3",
      "name": "python3"
    },
    "language_info": {
      "name": "python"
    }
  },
  "nbformat": 4,
  "nbformat_minor": 0
}